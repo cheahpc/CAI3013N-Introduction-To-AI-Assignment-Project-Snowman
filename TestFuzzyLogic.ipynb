{
 "cells": [
  {
   "cell_type": "code",
   "execution_count": 11,
   "metadata": {},
   "outputs": [
    {
     "name": "stdout",
     "output_type": "stream",
     "text": [
      "85.6\n",
      "28.69353\n",
      "29\n"
     ]
    }
   ],
   "source": [
    "# import modules\n",
    "import requests\n",
    "import json\n",
    "\n",
    "\n",
    "def getValueOf(sensor):\n",
    "    # sensor = Humidity / LightLevel / Temperature\n",
    "    response = requests.get(\"https://chirstmas-3af89-default-rtdb.firebaseio.com/.json\")\n",
    "    json_data = json.loads(response.text)\n",
    "    value = json_data[sensor]\n",
    "    return value\n",
    "\n",
    "\n",
    "print(getValueOf(\"Humidity\"))\n",
    "print(getValueOf(\"LightLevel\"))\n",
    "print(getValueOf(\"Temperature\"))"
   ]
  }
 ],
 "metadata": {
  "kernelspec": {
   "display_name": "Python 3",
   "language": "python",
   "name": "python3"
  },
  "language_info": {
   "codemirror_mode": {
    "name": "ipython",
    "version": 3
   },
   "file_extension": ".py",
   "mimetype": "text/x-python",
   "name": "python",
   "nbconvert_exporter": "python",
   "pygments_lexer": "ipython3",
   "version": "3.11.6"
  }
 },
 "nbformat": 4,
 "nbformat_minor": 2
}
