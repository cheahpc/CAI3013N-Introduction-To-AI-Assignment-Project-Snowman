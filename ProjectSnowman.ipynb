{
 "cells": [
  {
   "cell_type": "code",
   "execution_count": 3,
   "metadata": {},
   "outputs": [
    {
     "name": "stdout",
     "output_type": "stream",
     "text": [
      "Collecting python-dotenv\n",
      "  Downloading python_dotenv-1.0.0-py3-none-any.whl (19 kB)\n",
      "Installing collected packages: python-dotenv\n",
      "Successfully installed python-dotenv-1.0.0\n",
      "Note: you may need to restart the kernel to use updated packages.\n"
     ]
    },
    {
     "name": "stderr",
     "output_type": "stream",
     "text": [
      "\n",
      "[notice] A new release of pip is available: 23.2.1 -> 23.3.1\n",
      "[notice] To update, run: python.exe -m pip install --upgrade pip\n"
     ]
    }
   ],
   "source": [
    "pip install python-dotenv"
   ]
  },
  {
   "cell_type": "code",
   "execution_count": null,
   "metadata": {},
   "outputs": [
    {
     "name": "stdout",
     "output_type": "stream",
     "text": [
      "Collecting discord\n",
      "  Obtaining dependency information for discord from https://files.pythonhosted.org/packages/2d/38/d91ac49e8169b6c0f724f7aad26704eec07c4ecf31e067ca3d46a87e33d6/discord-2.3.2-py3-none-any.whl.metadata\n",
      "  Downloading discord-2.3.2-py3-none-any.whl.metadata (381 bytes)\n",
      "Collecting discord.py>=2.3.2 (from discord)\n",
      "  Obtaining dependency information for discord.py>=2.3.2 from https://files.pythonhosted.org/packages/9c/7e/5f1b24b2ced0c4b3042204f7827b57c7dcb26d368e9b0fde8cec7853cf30/discord.py-2.3.2-py3-none-any.whl.metadata\n",
      "  Downloading discord.py-2.3.2-py3-none-any.whl.metadata (4.9 kB)\n",
      "Collecting aiohttp<4,>=3.7.4 (from discord.py>=2.3.2->discord)\n",
      "  Obtaining dependency information for aiohttp<4,>=3.7.4 from https://files.pythonhosted.org/packages/2e/9f/9c37b01fc6a37c92f139a4cd937a92f03ebbd75379cfd55e85ca1e571643/aiohttp-3.8.6-cp311-cp311-win_amd64.whl.metadata\n",
      "  Downloading aiohttp-3.8.6-cp311-cp311-win_amd64.whl.metadata (7.9 kB)\n",
      "Collecting attrs>=17.3.0 (from aiohttp<4,>=3.7.4->discord.py>=2.3.2->discord)\n",
      "  Downloading attrs-23.1.0-py3-none-any.whl (61 kB)\n",
      "     ---------------------------------------- 0.0/61.2 kB ? eta -:--:--\n",
      "     ------------------------- ------------ 41.0/61.2 kB 991.0 kB/s eta 0:00:01\n",
      "     -------------------------------------- 61.2/61.2 kB 652.8 kB/s eta 0:00:00\n",
      "Requirement already satisfied: charset-normalizer<4.0,>=2.0 in c:\\users\\mrche\\appdata\\local\\programs\\python\\python311\\lib\\site-packages (from aiohttp<4,>=3.7.4->discord.py>=2.3.2->discord) (3.3.2)\n",
      "Collecting multidict<7.0,>=4.5 (from aiohttp<4,>=3.7.4->discord.py>=2.3.2->discord)\n",
      "  Downloading multidict-6.0.4-cp311-cp311-win_amd64.whl (28 kB)\n",
      "Collecting async-timeout<5.0,>=4.0.0a3 (from aiohttp<4,>=3.7.4->discord.py>=2.3.2->discord)\n",
      "  Obtaining dependency information for async-timeout<5.0,>=4.0.0a3 from https://files.pythonhosted.org/packages/a7/fa/e01228c2938de91d47b307831c62ab9e4001e747789d0b05baf779a6488c/async_timeout-4.0.3-py3-none-any.whl.metadata\n",
      "  Downloading async_timeout-4.0.3-py3-none-any.whl.metadata (4.2 kB)\n",
      "Collecting yarl<2.0,>=1.0 (from aiohttp<4,>=3.7.4->discord.py>=2.3.2->discord)\n",
      "  Downloading yarl-1.9.2-cp311-cp311-win_amd64.whl (60 kB)\n",
      "     ---------------------------------------- 0.0/60.2 kB ? eta -:--:--\n",
      "     ---------------------------------------- 60.2/60.2 kB 3.1 MB/s eta 0:00:00\n",
      "Collecting frozenlist>=1.1.1 (from aiohttp<4,>=3.7.4->discord.py>=2.3.2->discord)\n",
      "  Obtaining dependency information for frozenlist>=1.1.1 from https://files.pythonhosted.org/packages/39/16/72d9ccd30815d0b37218348f053be37bc3d14288ac192a794a39990ac28e/frozenlist-1.4.0-cp311-cp311-win_amd64.whl.metadata\n",
      "  Downloading frozenlist-1.4.0-cp311-cp311-win_amd64.whl.metadata (5.3 kB)\n",
      "Collecting aiosignal>=1.1.2 (from aiohttp<4,>=3.7.4->discord.py>=2.3.2->discord)\n",
      "  Downloading aiosignal-1.3.1-py3-none-any.whl (7.6 kB)\n",
      "Requirement already satisfied: idna>=2.0 in c:\\users\\mrche\\appdata\\local\\programs\\python\\python311\\lib\\site-packages (from yarl<2.0,>=1.0->aiohttp<4,>=3.7.4->discord.py>=2.3.2->discord) (3.4)\n",
      "Downloading discord-2.3.2-py3-none-any.whl (1.1 kB)\n",
      "Downloading discord.py-2.3.2-py3-none-any.whl (1.1 MB)\n",
      "   ---------------------------------------- 0.0/1.1 MB ? eta -:--:--\n",
      "   ---------- ----------------------------- 0.3/1.1 MB 8.6 MB/s eta 0:00:01\n",
      "   ---------------------------------------- 1.1/1.1 MB 11.4 MB/s eta 0:00:00\n",
      "Downloading aiohttp-3.8.6-cp311-cp311-win_amd64.whl (322 kB)\n",
      "   ---------------------------------------- 0.0/322.6 kB ? eta -:--:--\n",
      "   --------------------------------------- 322.6/322.6 kB 19.5 MB/s eta 0:00:00\n",
      "Downloading async_timeout-4.0.3-py3-none-any.whl (5.7 kB)\n",
      "Downloading frozenlist-1.4.0-cp311-cp311-win_amd64.whl (44 kB)\n",
      "   ---------------------------------------- 0.0/44.9 kB ? eta -:--:--\n",
      "   ---------------------------------------- 44.9/44.9 kB 2.3 MB/s eta 0:00:00\n",
      "Installing collected packages: multidict, frozenlist, attrs, async-timeout, yarl, aiosignal, aiohttp, discord.py, discord\n",
      "Successfully installed aiohttp-3.8.6 aiosignal-1.3.1 async-timeout-4.0.3 attrs-23.1.0 discord-2.3.2 discord.py-2.3.2 frozenlist-1.4.0 multidict-6.0.4 yarl-1.9.2\n"
     ]
    },
    {
     "name": "stderr",
     "output_type": "stream",
     "text": [
      "\n",
      "[notice] A new release of pip is available: 23.2.1 -> 23.3.1\n",
      "[notice] To update, run: python.exe -m pip install --upgrade pip\n"
     ]
    },
    {
     "name": "stdout",
     "output_type": "stream",
     "text": [
      "Requirement already satisfied: nest_asyncio in c:\\users\\mrche\\appdata\\roaming\\python\\python311\\site-packages (1.5.8)\n"
     ]
    },
    {
     "name": "stderr",
     "output_type": "stream",
     "text": [
      "\n",
      "[notice] A new release of pip is available: 23.2.1 -> 23.3.1\n",
      "[notice] To update, run: python.exe -m pip install --upgrade pip\n"
     ]
    }
   ],
   "source": [
    "#install library\n",
    "!pip install discord\n",
    "!pip install nest_asyncio \n",
    "!pip install neuralintents"
   ]
  },
  {
   "cell_type": "code",
   "execution_count": 1,
   "metadata": {},
   "outputs": [],
   "source": [
    "# import modules\n",
    "import discord\n",
    "import os\n",
    "from neuralintents import GenericAssistant\n",
    "import nest_asyncio\n",
    "import requests\n",
    "import json\n",
    "import random\n",
    "import numpy as np\n",
    "import pandas as pd\n",
    "\n",
    "nest_asyncio.apply()"
   ]
  },
  {
   "cell_type": "code",
   "execution_count": 2,
   "metadata": {},
   "outputs": [],
   "source": [
    "# Token of the chat-bot for chat-bot identification, get from https://discord.com/developers/applications/1093297147845300337/bot\n",
    "TOKEN = \"MTE2NjYzNTczNjA5NTc5NzMyMQ.G2hPjM.PvTVKR7uoJWoAHRHjG5P6iS82FzJdGy4Z21qDg\"\n",
    "\n",
    "client = discord.Client(intents=discord.Intents.all())\n",
    "# client = discord.Client(intents=discord.Intents.default())"
   ]
  },
  {
   "cell_type": "code",
   "execution_count": 1,
   "metadata": {},
   "outputs": [
    {
     "ename": "NameError",
     "evalue": "name 'GenericAssistant' is not defined",
     "output_type": "error",
     "traceback": [
      "\u001b[1;31m---------------------------------------------------------------------------\u001b[0m",
      "\u001b[1;31mNameError\u001b[0m                                 Traceback (most recent call last)",
      "\u001b[1;32mc:\\Users\\MrChe\\Downloads\\ITAI\\Discord Setup\\DiscordJupyter.ipynb Cell 5\u001b[0m line \u001b[0;36m7\n\u001b[0;32m      <a href='vscode-notebook-cell:/c%3A/Users/MrChe/Downloads/ITAI/Discord%20Setup/DiscordJupyter.ipynb#W4sZmlsZQ%3D%3D?line=3'>4</a>\u001b[0m     quote \u001b[39m=\u001b[39m json_data[\u001b[39m0\u001b[39m][\u001b[39m\"\u001b[39m\u001b[39mq\u001b[39m\u001b[39m\"\u001b[39m] \u001b[39m+\u001b[39m \u001b[39m\"\u001b[39m\u001b[39m -\u001b[39m\u001b[39m\"\u001b[39m \u001b[39m+\u001b[39m json_data[\u001b[39m0\u001b[39m][\u001b[39m\"\u001b[39m\u001b[39ma\u001b[39m\u001b[39m\"\u001b[39m]\n\u001b[0;32m      <a href='vscode-notebook-cell:/c%3A/Users/MrChe/Downloads/ITAI/Discord%20Setup/DiscordJupyter.ipynb#W4sZmlsZQ%3D%3D?line=4'>5</a>\u001b[0m     \u001b[39mreturn\u001b[39;00m quote\n\u001b[1;32m----> <a href='vscode-notebook-cell:/c%3A/Users/MrChe/Downloads/ITAI/Discord%20Setup/DiscordJupyter.ipynb#W4sZmlsZQ%3D%3D?line=6'>7</a>\u001b[0m chatbot \u001b[39m=\u001b[39m GenericAssistant(\u001b[39m'\u001b[39m\u001b[39mintents.json\u001b[39m\u001b[39m'\u001b[39m)\n\u001b[0;32m      <a href='vscode-notebook-cell:/c%3A/Users/MrChe/Downloads/ITAI/Discord%20Setup/DiscordJupyter.ipynb#W4sZmlsZQ%3D%3D?line=8'>9</a>\u001b[0m \u001b[39mclass\u001b[39;00m \u001b[39mMyClient\u001b[39;00m(discord\u001b[39m.\u001b[39mClient):\n\u001b[0;32m     <a href='vscode-notebook-cell:/c%3A/Users/MrChe/Downloads/ITAI/Discord%20Setup/DiscordJupyter.ipynb#W4sZmlsZQ%3D%3D?line=10'>11</a>\u001b[0m     \u001b[39masync\u001b[39;00m \u001b[39mdef\u001b[39;00m \u001b[39mon_ready\u001b[39m(\u001b[39mself\u001b[39m):\n",
      "\u001b[1;31mNameError\u001b[0m: name 'GenericAssistant' is not defined"
     ]
    }
   ],
   "source": [
    "\n",
    "def get_quote():\n",
    "    response = requests.get(\"https://zenquotes.io/api/random\")\n",
    "    json_data = json.loads(response.text)\n",
    "    quote = json_data[0][\"q\"] + \" -\" + json_data[0][\"a\"]\n",
    "    return quote\n",
    "\n",
    "chatbot = GenericAssistant('intents.json')\n",
    "chatbot.train_model()\n",
    "chatbot.save_model()\n",
    "\n",
    "class MyClient(discord.Client):\n",
    "    \n",
    "    async def on_ready(self):\n",
    "        print(f\"Logged in as {self.user} (ID: {self.user.id})\")\n",
    "        print(\"------\")\n",
    "\n",
    "    async def on_message(self, message):\n",
    "        # we do not want the bot to reply to itself\n",
    "        if message.author.id == self.user.id:\n",
    "            return\n",
    "\n",
    "        # while the bot is waiting on a response from the model\n",
    "        # set the its status as typing for user-friendliness\n",
    "        async with message.channel.typing():\n",
    "            #    bot_response = response.get('generated_text', None)\n",
    "            #   await message.channel.send(bot_response)\n",
    "            if message.content.startswith(\"!hello\"):\n",
    "                await message.reply(\"Hello!\", mention_author=True)\n",
    "\n",
    "            if message.content.startswith(\"How are you doing?\"):\n",
    "                r2 = [\n",
    "                    \"I am doing fine\",\n",
    "                    \"I am hanging in\",\n",
    "                    \"I am good\",\n",
    "                    \"I am A-okay! haha\",\n",
    "                    \"Things are a bit tough here, but I will get through\",\n",
    "                ]\n",
    "                \n",
    "                res = r2[random.randint(0, 4)]\n",
    "                await message.channel.send(res.format(message))\n",
    "                \n",
    "        \n",
    "            # THE ++++++++++++++++++++++++++++++++++++++++++++++++++++++++++++ BOMB!\n",
    "            if message.content.startswith(\"\"): # no prefix \n",
    "                response = chatbot.request(message.content)\n",
    "                await message.channel.send(response)\n",
    "\n",
    "intents = discord.Intents.default()\n",
    "intents.message_content = True\n",
    "\n",
    "\n",
    "def main():\n",
    "    client = MyClient(intents=intents)\n",
    "    client.run(TOKEN)\n",
    "\n",
    "\n",
    "if __name__ == \"__main__\":\n",
    "    main()"
   ]
  }
 ],
 "metadata": {
  "kernelspec": {
   "display_name": "Python 3",
   "language": "python",
   "name": "python3"
  },
  "language_info": {
   "codemirror_mode": {
    "name": "ipython",
    "version": 3
   },
   "file_extension": ".py",
   "mimetype": "text/x-python",
   "name": "python",
   "nbconvert_exporter": "python",
   "pygments_lexer": "ipython3",
   "version": "3.11.6"
  }
 },
 "nbformat": 4,
 "nbformat_minor": 4
}
