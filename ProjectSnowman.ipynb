{
 "cells": [
  {
   "cell_type": "code",
   "execution_count": null,
   "metadata": {},
   "outputs": [],
   "source": [
    "pip install python-dotenv"
   ]
  },
  {
   "cell_type": "code",
   "execution_count": null,
   "metadata": {},
   "outputs": [],
   "source": [
    "# import modules\n",
    "import discord\n",
    "import os\n",
    "from neuralintents.assistants import BasicAssistant\n",
    "\n",
    "# from neuralintents import BasicAssistant\n",
    "import nest_asyncio\n",
    "import requests\n",
    "import json\n",
    "import random\n",
    "import numpy as np\n",
    "import pandas as pd\n",
    "\n",
    "nest_asyncio.apply()"
   ]
  },
  {
   "cell_type": "code",
   "execution_count": null,
   "metadata": {},
   "outputs": [],
   "source": [
    "# Token of the chat-bot for chat-bot identification, get from https://discord.com/developers/applications/1093297147845300337/bot\n",
    "TOKEN = \"MTE2NjYzNTczNjA5NTc5NzMyMQ.G2hPjM.PvTVKR7uoJWoAHRHjG5P6iS82FzJdGy4Z21qDg\"\n",
    "\n",
    "client = discord.Client(intents=discord.Intents.all())\n",
    "# client = discord.Client(intents=discord.Intents.default())"
   ]
  }
 ],
 "metadata": {
  "kernelspec": {
   "display_name": "Python 3",
   "language": "python",
   "name": "python3"
  },
  "language_info": {
   "codemirror_mode": {
    "name": "ipython",
    "version": 3
   },
   "file_extension": ".py",
   "mimetype": "text/x-python",
   "name": "python",
   "nbconvert_exporter": "python",
   "pygments_lexer": "ipython3",
   "version": "3.11.6"
  }
 },
 "nbformat": 4,
 "nbformat_minor": 4
}
